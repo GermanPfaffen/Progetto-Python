{
 "cells": [
  {
   "cell_type": "code",
   "execution_count": 1,
   "metadata": {},
   "outputs": [],
   "source": [
    "import math as m "
   ]
  },
  {
   "cell_type": "code",
   "execution_count": 8,
   "metadata": {},
   "outputs": [],
   "source": [
    "def dist2punti(latA,lonA,latB,lonB):\n",
    "    Rt=6378.388\n",
    "    lat_A=(m.pi*latA)/180\n",
    "    lat_B=(m.pi*latB)/180\n",
    "    lon_A=(m.pi*lonA)/180\n",
    "    lon_B=(m.pi*lonB)/180\n",
    "    dl=abs(lon_A-lon_B)\n",
    "    p = m.acos((m.sin(lat_B)*m.sin(lat_A))+(m.cos(lat_B)*m.cos(lat_A)*m.cos(dl)))\n",
    "    if(lon_A>0 and lon_B>0): \n",
    "        if(lon_B > lon_A): \n",
    "            p=p\n",
    "        else:\n",
    "            p=2*m.pi-p\n",
    "    if(lon_A<0 and lon_B<0): \n",
    "        if(lon_B > lon_A): \n",
    "            p=p\n",
    "        else:\n",
    "            p=2*m.pi-p\n",
    "    if(lon_A>0 and lon_B<0):\n",
    "        if((lon_A+abs(lon_B))<m.pi): \n",
    "            p=2*m.pi-p\n",
    "        else:\n",
    "            p=p\n",
    "    if(lon_A<0 and lon_B>0):\n",
    "        if((lon_B+abs(lon_A))<m.pi): \n",
    "            p=p\n",
    "        else:\n",
    "            p=2*m.pi-p\n",
    "    return(p*Rt) "
   ]
  },
  {
   "cell_type": "code",
   "execution_count": 9,
   "metadata": {},
   "outputs": [],
   "source": [
    "distanza=dist2punti(35.6897,139.6922,34.6936,135.5019)"
   ]
  },
  {
   "cell_type": "code",
   "execution_count": 10,
   "metadata": {},
   "outputs": [
    {
     "data": {
      "text/plain": [
       "39679.610709045606"
      ]
     },
     "execution_count": 10,
     "metadata": {},
     "output_type": "execute_result"
    }
   ],
   "source": [
    "distanza"
   ]
  },
  {
   "cell_type": "code",
   "execution_count": 11,
   "metadata": {},
   "outputs": [],
   "source": [
    "distanza=dist2punti(34.6936,135.5019,35.6897,139.6922)"
   ]
  },
  {
   "cell_type": "code",
   "execution_count": 12,
   "metadata": {},
   "outputs": [
    {
     "data": {
      "text/plain": [
       "396.9830560449784"
      ]
     },
     "execution_count": 12,
     "metadata": {},
     "output_type": "execute_result"
    }
   ],
   "source": [
    "distanza"
   ]
  },
  {
   "cell_type": "code",
   "execution_count": null,
   "metadata": {},
   "outputs": [],
   "source": []
  }
 ],
 "metadata": {
  "kernelspec": {
   "display_name": "Python 3",
   "language": "python",
   "name": "python3"
  },
  "language_info": {
   "codemirror_mode": {
    "name": "ipython",
    "version": 3
   },
   "file_extension": ".py",
   "mimetype": "text/x-python",
   "name": "python",
   "nbconvert_exporter": "python",
   "pygments_lexer": "ipython3",
   "version": "3.8.3"
  }
 },
 "nbformat": 4,
 "nbformat_minor": 4
}
